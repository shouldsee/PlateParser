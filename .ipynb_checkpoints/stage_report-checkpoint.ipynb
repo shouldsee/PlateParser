{
 "cells": [
  {
   "cell_type": "markdown",
   "metadata": {},
   "source": [
    "## Results and methodology\n",
    "\n",
    "Question: Is the flowering-controlling pathway discovered in *A. thaliana* conserved in *Brachypodium*? Flowering plants sense day light length through the use of ELF3. The working hypothesis is that ELF3 protein only accumulate in short-day when phyC is not active enough to stop this from happening. As a result, we should see an higher average level of ELF3 in short-days but not in long days. \n",
    "\n",
    "### Methodology: \n",
    "\n",
    "1. Keep things simple by looking at 2 weeks old, wildtype (Bd21-3) datasets\n",
    "\n",
    "1. Cluster based on LD ($\\log{x_{LD}}$), check whether the resultant clustering is transferrable to SD dataset.($\\log{x_{LD}}$).\n",
    "\n",
    "1. A even better approach entails clustering $\\log{\\frac{x_{LD}}{x_{SD}}}$ directly. This simplifies the task of identifying the biological-relevant cluster (thanks to Phil's idea)\n",
    "\n",
    "### Technical details:\n",
    "\n",
    "1. Quality-control the RNASeq datasets before clustering: remove de-novo transcripts to reduce variation due to mapping artefacts, and let the clustering concentrate on biological variations\n",
    "\n",
    "1. Filter out the high variable genes (HVG) to focus on the genes with temporally variation.\n",
    "\n",
    "1. Choose a suitable normalisation scheme $Y=F(X)$ out of:\n",
    "\n",
    "  1. identityNorm: $Y=X$\n",
    "  \n",
    "  1. meanNorm:  $Y=X-E(X)$\n",
    "\n",
    "    * E(Y)=0\n",
    "  \n",
    "  1. stdNorm:  $Y=\\frac{X-E(X)}{Std(X)}$\n",
    "    \n",
    "    * Also known as z-score transformation\n",
    "    \n",
    "    * E(Y)=0,Std(Y)=1, ideally $Y\\sim Normal(0,1)$\n",
    "\n",
    "1. Arrange the clusters by the ZTime where the value is maximised"
   ]
  },
  {
   "cell_type": "markdown",
   "metadata": {},
   "source": [
    "Look at temporal expression patterns of a lot of genes to identify those are differentially expressed in long-day and short-day.\n",
    "\n",
    "Data: "
   ]
  },
  {
   "cell_type": "markdown",
   "metadata": {},
   "source": []
  }
 ],
 "metadata": {
  "kernelspec": {
   "display_name": "Python 2",
   "language": "python",
   "name": "python2"
  },
  "language_info": {
   "codemirror_mode": {
    "name": "ipython",
    "version": 2
   },
   "file_extension": ".py",
   "mimetype": "text/x-python",
   "name": "python",
   "nbconvert_exporter": "python",
   "pygments_lexer": "ipython2",
   "version": "2.7.12"
  }
 },
 "nbformat": 4,
 "nbformat_minor": 2
}
